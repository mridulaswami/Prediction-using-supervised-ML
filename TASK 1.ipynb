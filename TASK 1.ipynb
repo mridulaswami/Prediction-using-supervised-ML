
  {
   "cell_type": "markdown",
   "metadata": {},
   "source": [
    "Data Preprocessing"
   ]
  },
  {
   "cell_type": "code",
   "execution_count": 1,
   "metadata": {},
   "outputs": [
    {
     "name": "stderr",
     "output_type": "stream",
     "text": [
      "Matplotlib is building the font cache; this may take a moment.\n"
     ]
    }
   ],
   "source": [
    "## Importing the necessary libraries\n",
    "import pandas as pd\n",
    "import numpy as np\n",
    "import matplotlib.pyplot as plt"
   ]
  },
  {
   "cell_type": "code",
   "execution_count": 3,
   "metadata": {},
   "outputs": [
    {
     "data": {
      "text/html": [
       "<div>\n",
       "<style scoped>\n",
       "    .dataframe tbody tr th:only-of-type {\n",
       "        vertical-align: middle;\n",
       "    }\n",
       "\n",
       "    .dataframe tbody tr th {\n",
       "        vertical-align: top;\n",
       "    }\n",
       "\n",
       "    .dataframe thead th {\n",
       "        text-align: right;\n",
       "    }\n",
       "</style>\n",
       "<table border=\"1\" class=\"dataframe\">\n",
       "  <thead>\n",
       "    <tr style=\"text-align: right;\">\n",
       "      <th></th>\n",
       "      <th>Hours</th>\n",
       "      <th>Scores</th>\n",
       "    </tr>\n",
       "  </thead>\n",
       "  <tbody>\n",
       "    <tr>\n",
       "      <th>0</th>\n",
       "      <td>2.5</td>\n",
       "      <td>21</td>\n",
       "    </tr>\n",
       "    <tr>\n",
       "      <th>1</th>\n",
       "      <td>5.1</td>\n",
       "      <td>47</td>\n",
       "    </tr>\n",
       "    <tr>\n",
       "      <th>2</th>\n",
       "      <td>3.2</td>\n",
       "      <td>27</td>\n",
       "    </tr>\n",
       "    <tr>\n",
       "      <th>3</th>\n",
       "      <td>8.5</td>\n",
       "      <td>75</td>\n",
       "    </tr>\n",
       "    <tr>\n",
       "      <th>4</th>\n",
       "      <td>3.5</td>\n",
       "      <td>30</td>\n",
       "    </tr>\n",
       "  </tbody>\n",
       "</table>\n",
       "</div>"
      ],
      "text/plain": [
       "   Hours  Scores\n",
       "0    2.5      21\n",
       "1    5.1      47\n",
       "2    3.2      27\n",
       "3    8.5      75\n",
       "4    3.5      30"
      ]
     },
     "execution_count": 3,
     "metadata": {},
     "output_type": "execute_result"
    }
   ],
   "source": [
    "## importing the data from link and display first 5 rows\n",
    "df=pd.read_csv(\"http://bit.ly/w-data\")\n",
    "df.head()"
   ]
  },
  {
   "cell_type": "code",
   "execution_count": 4,
   "metadata": {},
   "outputs": [
    {
     "data": {
      "text/plain": [
       "(25, 2)"
      ]
     },
     "execution_count": 4,
     "metadata": {},
     "output_type": "execute_result"
    }
   ],
   "source": [
    "df.shape"
   ]
  },
  {
   "cell_type": "code",
   "execution_count": 5,
   "metadata": {},
   "outputs": [
    {
     "data": {
      "text/plain": [
       "Hours     0\n",
       "Scores    0\n",
       "dtype: int64"
      ]
     },
     "execution_count": 5,
     "metadata": {},
     "output_type": "execute_result"
    }
   ],
   "source": [
    "## Checking for missing values\n",
    "df.isnull().sum()"
   ]
  },
  {
   "cell_type": "code",
   "execution_count": 6,
   "metadata": {},
   "outputs": [
    {
     "data": {
      "text/html": [
       "<div>\n",
       "<style scoped>\n",
       "    .dataframe tbody tr th:only-of-type {\n",
       "        vertical-align: middle;\n",
       "    }\n",
       "\n",
       "    .dataframe tbody tr th {\n",
       "        vertical-align: top;\n",
       "    }\n",
       "\n",
       "    .dataframe thead th {\n",
       "        text-align: right;\n",
       "    }\n",
       "</style>\n",
       "<table border=\"1\" class=\"dataframe\">\n",
       "  <thead>\n",
       "    <tr style=\"text-align: right;\">\n",
       "      <th></th>\n",
       "      <th>Hours</th>\n",
       "      <th>Scores</th>\n",
       "    </tr>\n",
       "  </thead>\n",
       "  <tbody>\n",
       "    <tr>\n",
       "      <th>count</th>\n",
       "      <td>25.000000</td>\n",
       "      <td>25.000000</td>\n",
       "    </tr>\n",
       "    <tr>\n",
       "      <th>mean</th>\n",
       "      <td>5.012000</td>\n",
       "      <td>51.480000</td>\n",
       "    </tr>\n",
       "    <tr>\n",
       "      <th>std</th>\n",
       "      <td>2.525094</td>\n",
       "      <td>25.286887</td>\n",
       "    </tr>\n",
       "    <tr>\n",
       "      <th>min</th>\n",
       "      <td>1.100000</td>\n",
       "      <td>17.000000</td>\n",
       "    </tr>\n",
       "    <tr>\n",
       "      <th>25%</th>\n",
       "      <td>2.700000</td>\n",
       "      <td>30.000000</td>\n",
       "    </tr>\n",
       "    <tr>\n",
       "      <th>50%</th>\n",
       "      <td>4.800000</td>\n",
       "      <td>47.000000</td>\n",
       "    </tr>\n",
       "    <tr>\n",
       "      <th>75%</th>\n",
       "      <td>7.400000</td>\n",
       "      <td>75.000000</td>\n",
       "    </tr>\n",
       "    <tr>\n",
       "      <th>max</th>\n",
       "      <td>9.200000</td>\n",
       "      <td>95.000000</td>\n",
       "    </tr>\n",
       "  </tbody>\n",
       "</table>\n",
       "</div>"
      ],
      "text/plain": [
       "           Hours     Scores\n",
       "count  25.000000  25.000000\n",
       "mean    5.012000  51.480000\n",
       "std     2.525094  25.286887\n",
       "min     1.100000  17.000000\n",
       "25%     2.700000  30.000000\n",
       "50%     4.800000  47.000000\n",
       "75%     7.400000  75.000000\n",
       "max     9.200000  95.000000"
      ]
     },
     "execution_count": 6,
     "metadata": {},
     "output_type": "execute_result"
    }
   ],
   "source": [
    "df.describe()"
   ]
  },
  {
   "cell_type": "code",
   "execution_count": 7,
   "metadata": {},
   "outputs": [],
   "source": [
    "## The data has no missing values and has no outliers"
   ]
  },
  {
   "cell_type": "markdown",
   "metadata": {},
   "source": [
    "Plotting the data and finding the relationships"
   ]
  },
  {
   "cell_type": "code",
   "execution_count": 8,
   "metadata": {},
   "outputs": [
    {
     "data": {
      "image/png": "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\n",
      "text/plain": [
       "<Figure size 432x288 with 1 Axes>"
      ]
     },
     "metadata": {
      "needs_background": "light"
     },
     "output_type": "display_data"
    }
   ],
   "source": [
    "plt.scatter(x='Hours',y='Scores',data=df)\n",
    "plt.xlabel('Hours')\n",
    "plt.ylabel('Scores')\n",
    "plt.title('Percentage of scores basedon no. of study hours')\n",
    "plt.legend()\n",
    "plt.show()"
   ]
  },
  {
   "cell_type": "markdown",
   "metadata": {},
   "source": [
    "from the above graph , we can see that there is a linear positive relationship between the number of study hours and percentage of scores."
   ]
  },
  {
   "cell_type": "markdown",
   "metadata": {},
   "source": [
    "SPLITTING THE DATA"
   ]
  },
  {
   "cell_type": "code",
   "execution_count": 10,
   "metadata": {},
   "outputs": [],
   "source": [
    "x = df.iloc[:, :-1].values\n",
    "y = df.iloc[:, 1].values"
   ]
  },
  {
   "cell_type": "code",
   "execution_count": 13,
   "metadata": {},
   "outputs": [],
   "source": [
    "from sklearn.model_selection import train_test_split"
   ]
  },
  {
   "cell_type": "code",
   "execution_count": 15,
   "metadata": {},
   "outputs": [],
   "source": [
    "x_train,x_test,y_train,y_test=train_test_split(x,y,test_size=0.2,random_state=0)"
   ]
  },
  {
   "cell_type": "code",
   "execution_count": 16,
   "metadata": {},
   "outputs": [
    {
     "name": "stdout",
     "output_type": "stream",
     "text": [
      "(20, 1) (5, 1) (20,) (5,)\n"
     ]
    }
   ],
   "source": [
    "print(x_train.shape,x_test.shape,y_train.shape,y_test.shape)"
   ]
  },
  {
   "cell_type": "markdown",
   "metadata": {},
   "source": [
    "Training the Model"
   ]
  },
  {
   "cell_type": "code",
   "execution_count": 17,
   "metadata": {},
   "outputs": [
    {
     "data": {
      "text/plain": [
       "LinearRegression()"
      ]
     },
     "execution_count": 17,
     "metadata": {},
     "output_type": "execute_result"
    }
   ],
   "source": [
    "## we will train the model on linear regression\n",
    "from sklearn.linear_model import LinearRegression\n",
    "lin_reg=LinearRegression()\n",
    "lin_reg.fit(x_train,y_train)"
   ]
  },
  {
   "cell_type": "code",
   "execution_count": 18,
   "metadata": {},
   "outputs": [
    {
     "data": {
      "image/png": "iVBORw0KGgoAAAANSUhEUgAAAX4AAAEWCAYAAABhffzLAAAAOXRFWHRTb2Z0d2FyZQBNYXRwbG90bGliIHZlcnNpb24zLjMuMiwgaHR0cHM6Ly9tYXRwbG90bGliLm9yZy8vihELAAAACXBIWXMAAAsTAAALEwEAmpwYAAAnNElEQVR4nO3de5gcZZn+8e9NEsgkgBEIkIMQFAhBWAWjgBFkORhPaMBVFBFEVtAVAVeRk7vwW1cJgq5nMcohiKBZQEBZJWwiCKuQTQgYJCCwQSCZkAQIEBIgh+f3R1Uz3TM9M90zXV19uD/XNdd0V3dVPVPd8/TT7/vWW4oIzMysfWyWdwBmZlZfTvxmZm3Gid/MrM048ZuZtRknfjOzNuPEb2bWZpz4rSqSjpT0hKQ1kvbJO56BknS+pKtyjuGTku7MM4YsSZooaaGkFySdWud93ybpHwewXku/JgVtmfglPSZpXZq8npJ0uaQt846roBGSUh8uBk6JiC0jYmHewVhD+zJwW0RsFRHfrXSldkm+eWrLxJ86IiK2BPYF3gp8pZqVlWjH47cz8Jc8dixpaB77tQHL7b3S6PJ+L7dj4ioREUuB3wJ7AUjaX9IfJa2WdJ+kgwvPTb8+fk3S/wBrgddLeqOkWyU9k357OCd97maSzpL0qKSnJc2StE362ARJIel4SY9LWiXp3PSxdwPnAEen30juS5efIGlx+rX5/ySdXPx3SPqypE5JyyT9Y7r9XdPHtpB0cbqvpyRdIqmj3PFI4/6KpL9JWiHpSkmvSbexBhgC3Cfp0TLrStJ/pOs9J+nPkgrHtUPSN9PtPifpzkIMkj4g6S/pMb9N0qSibT4m6UxJfwZelDS0n9fok+nxeUHSEkkf7+PlHy7pl+lz75H0pqLtFF67FyQ9IOnIosd2lXR7+neskvTLosf2KHo/PCTpI0WPbSvpJknPS5oHvKGP2Co5Ll9Kj/Fz6d8xvJftfDI93hdLejY9Lu8penxsGtczkh6R9Om+4qokRklzgb8Hvp++j3fvJa6S1ypd/xLggHS91elzS5pu1O1bgaTDJT2YHovvA0qXb5H+XXsXPXd7Jd/4R/fxd1V9rCRdIenfi+4fLOnJovvl3stnSlqaHoOHJB1a4aEfnIhoux/gMeCw9PbrSKqSrwLjgKeB95J8KB6e3h+dPvc24HHgjcBQYCugE/giMDy9v1/63NOBu4DxwBbAj4Fr0scmAAH8BOgA3gS8DExKHz8fuKpbzO8jSRQC3knywbNv+ti7geVpXCOAn6Xb3zV9/NvATcA2aYy/Bi7o5dh8CngEeD2wJXA98LOix1/dbpl1pwILgFFpnJOAMeljP0iP3ziSD4+3p8dld+DF9FgPI2keeATYvOi1ujd9nTr6eo2AkcDzwMR03THAG3uJ9XxgPfAP6X6/BCwBhqWPfxgYm+7j6DTGwt9yDXBu+thw4B3p8pHAE8AJJO+PfYFVhRiAXwCz0uftBSwF7uwlvkqOy7w0xm2AxcBnetnWJ9O/9dPpsf8ssAxQ+vjtwA/Tv+XNwErg0Ar+j/qL8TbgH3tZt9fXKo33zm7PL9lW8XOA7dJtFV7LLwAbCs9P/7YLi9Y9Dfh1rY8VcAXw70XbOhh4slveuZeu9/LE9P0ytigvvKEuObAeO2m0n/QFWAOsBv6WvpAdwJkUJbn0ubcAxxe9+f6t6LGPAQt72cfi4n+e9I29niQhTCBJoOOLHp8HfDS9fT7dEn+Z7d8AnJbevoyiRA7smm5/V5IE/GLxGwo4AFjSy3bnAP9UdH9iIe70fl+J/xDgr8D+wGZFyzcD1gFvKrPOvwCzuj13KXBw0Wv1qaLHe32NSJLJauBDQEc/x+984K5u++0EDuzl+fcCH0xvXwnMKH790uVHA3d0W/Zj4DySJLIe2KPosa/Te+Kv5LgcW/T4N4BLetnWJ4FHiu6PSF/HHUmS0EZgq6LHLwCuqOD/qL8Yb6PvxF/2taL6xH9ct9dSwJN0Jf79SBLsZun9+cBHan2sqCzxF7+XdwVWAIeRFhz1+mnnpp5pETEqInaOiH+KiHUkbZIfTr+2rk6/Zr6DJGkXPFF0+3VAjyaP1M7Ar4q2s5jkTbND0XOWF91eS1JhlyXpPZLuSr9iriapeLdLHx7bLa7i26NJ3rwLimL5Xbq8nLEkH4YFfyP5sNqh/NO7RMRc4Psk1f1TkmZI2jqNczjlj1XJ/iJiUxr/uF7+nl5fo4h4kST5fgbolHSzpD36CPnV7ab7fTKNB0nHSbq3aB970XW8v0ySXOalzRyfKoptv26xfZwkaYwmOY7Ff0vxcR7Ican4/VP83IhYm97cMt3PMxHxQre4ivczmBjLGsBr1V8cxa9ldLt/N0nx8850H7uSfAPuTRbHqqA4rkdIWgbOB1ZI+oWksVVsa8DaOfGX8wRJNTmq6GdkREwvek50e35v7bRPAO/ptq3hkfQp9KdkylRJWwDXkYyo2SEiRgH/RdqOSVKpji9a5XVFt1eRVNtvLIrjNZF0bJezjCSBFexE8rX5qQriJiK+GxFvIWl22h04I43hJcofq5L9SVIaf/Fx6n7Me32NIuKWiDic5MP6QZLmtN68epyUdNSPB5ZJ2jld7xRg2/R43096vCNieUR8OiLGAicDP1TSn/IEcHu32LaMiM+SNAlsoPS12amP2Co5LrWwDNhG0lbd4qpkP4OKsY/XqtyUwS+SFDAFOxbd7qT0tRSlxxlgJnAs8Ang2oh4qZIYu+nvWPUVY0HJ3xYRV0fEO0iOYwAXDiCuqjnxl7oKOELSVElDJA1PO2jG9/L83wA7Sjo97UTaStJ+6WOXAF9LkwiSRkv6YIVxPAVMUNeooc1J2sNXAhvSzqZ3FT1/FnCCpEmSRgD/WnggrcJ+AvyHpO3TWMZJmtrLvq8BviBpFyVDXL8O/DIiNvQXtKS3StpP0jCSf4KXgI1pDJcB30o7x4ZIOiD9QJsFvE/Soel6XyTp7/hjL7vp9TWStIOSzsaR6TbWkHzL6s1bJB2lZITF6ek6d5E0QwTJ8UbSCaSd/+n9Dxe9J55Nn7uR5P2wu6RPSBqW/rxV0qSI2EjSX3K+pBGS9iRpnupNtcdlQCLiiXSbF6TH8u+AE4GfV7D6gGPs57V6ChgvafOiVe4FjkqP3a5pjAU3A28sei1PpWfS/RlwJEnyv7KCv62HCo7VvcB7JW0jaUeS91SvlJzncEj6f/ASSYHW1/u1Zpz4i6Qv7AdJRtWsJKngzqCX45R+5TscOILk6+HDJCMZAL5D8nVytqQXSBLKfuW2U8Z/pr+flnRPup9TSf7RngWOoeirakT8Fvgu8HuSzrU/pQ+9nP4+M11+l6Tngf8mabsv5zKSf5I/kHR2vgR8vsK4tyb5kHmW5Cvw0yTfUiDpPF0E/C/wDElls1lEPETyz/g9km8GR5AMtX2l3A76eY02I0k+y9J9vBP4pz7ivZGkueFZkkrwqIhYHxEPAN8kOY5PAXsD/1O03luBu5WMcrqJpK9lSfo6vQv4aBrD8vTv3CJd7xSSJoPlJO3Bl/cWWLXHZZA+RtLvtAz4FXBeRNwKoGQE2CUZxNjXazWXZMDFckmr0mX/AbxC8nrMpOiDKSJWkXTGTyd5z+1G6etFRDwJ3EPyIX1HBfH1ptdjRfJ/cx9JW/5s4Jdl1i+2RRrzKpL3xPYk7+vMFXqqrYUoGRJ3P7BFJZW6WTuQdBmwLCKqOmenFTnxtwgl48xvJmmmmAlsiohpuQZl1iAkTSBpitknIpbkG03+3NTTOk4mafp4lKSd8LP5hmPWGCR9leQb8EVO+glX/GZmbcYVv5lZm2mKSa+22267mDBhQt5hmJk1lQULFqyKiB4nazZF4p8wYQLz58/POwwzs6YiqezZ4W7qMTNrM078ZmZtxonfzKzNOPGbmbUZJ34zszbTFKN6zMya3Q0Ll3LRLQ+xbPU6xo7q4IypE5m2TzVT+deOE7+ZWcZuWLiUs69fxLr1yazLS1ev4+zrFwHkkvzd1GNmlrGLbnno1aRfsG79Ri665aFc4nHiNzPL2LLV66panjUnfjOzjI0d1VHV8qw58ZuZZeyMqRPpGDakZFnHsCGcMbW3C+Fly527ZmYZK3TgVj2q5/nnYeutax6PE7+ZWR1M22dc5SN4Fi2Cv/u75PYjj8Ab3lDTWNzUY2bWKDZtgoMO6kr6HR3w+tfXfDdO/GZmjeC3v4UhQ+COO5L7118Pa9eCVPNduanHzCxPa9fCDjvAmjXJ/X33hXnzkg+BjLjiNzPLy3e/CyNHdiX9+fNhwYJMkz644jczq79ly2BcUUfvCSfAZZfVbfeu+M3M6umkk0qT/hNP1DXpgxO/mVl9XH550lH7k58k97/1LYiA8ePrHoqbeszMsrR+PWy+eemyNWuStv2cuOI3M8vKiSeWJv2TTkqq/ByTPrjiNzOrveXLYcyY0mWvvALDhlW8iSwv3OKK38yslsaMKU36M2cmVX6VSf/s6xexdPU6gq4Lt9ywcGlNQnTiNzOrhT/9Kem8Xb68a1kEHHdc1ZvK+sItbuoxMxus7tMqLFiQnIE7QFlfuMUVv5nZQF1ySWnSnzgxqfIHkfQh+wu3uOI3s6aXZUdoWS+/DMOHly5btQq23bYmmz9j6sSSi7NDbS/c4orfzJpa1h2hPWy9dWnSP+20pMqvUdKHZO7+C47am3GjOhAwblQHFxy1d80+zFzxm1nTKa7wN5PYGFHyeKEjtKZV/4MPwqRJpcs2bMhsQrWqLtxSJVf8ZtZUulf43ZN+Qa06QoGkHb846X/lK0mVn/EsmllxxW9mTaXcUMdyatIR+rOf9RyO2csHTTNx4jezplJJJT/ojtAI2Kxbg8icOXDIIQPfZgNx4jezpjJ2VAdLyyT/IRKbIgY/qmfXXeHRR0uXtUCVX8yJ38yaSm9DHQc96mX1anjta0uXdXbCjjsOfJsNyonfzJpKIbnXdNx+uQuat1iVX8yJ38yaTs2GOt5xBxx0UOmy9ethaGunRg/nNLP2JJUm/eOOS6r8Fk/64MRvZu3mnHN6Nu1EJNMnt4nW/2gzM4PyQzR/9SuYNq1kUd3n/cmBE7+Ztb7ttoOnny5dVqbztnBWcGHEUGHeH6Clkn+mTT2SviDpL5Lul3SNpOGStpF0q6SH09+v7X9LZmYDsHJl0qxTnPSffLLXETtZXwClUWSW+CWNA04FJkfEXsAQ4KPAWcCciNgNmJPeNzOrLQm23750WQSM671yz/oCKI0i687doUCHpKHACGAZ8EGg0IsyE5iWcQxm1k5uvbVn5+3GjRWNy8/6AiiNIrPEHxFLgYuBx4FO4LmImA3sEBGd6XM6ge3LrS/pJEnzJc1fuXJlVmGaWSuR4F3v6rr/uc+V79TtxRlTJ9IxrHTGzVpeAKVRZNnU81qS6n4XYCwwUtKxla4fETMiYnJETB49enRWYZpZKzj22PJDNL///ao2k/UFUBpFlqN6DgOWRMRKAEnXA28HnpI0JiI6JY0BVmQYg5m1sk2bes6Jf8stpVV/lbK8AEqjyDLxPw7sL2kEsA44FJgPvAgcD0xPf9+YYQxm1qrabH6dWsqyjf9u4FrgHmBRuq8ZJAn/cEkPA4en983MKvPooz2Tfmenk34VMj2BKyLOA87rtvhlkurfzKw6rvJrwnP1mFnj++EPeyb9TZuc9AfIUzaY2YDVZV6b7gn/sMOSsfo2YE78ZjYgmc9rs/vu8PDDpctc4deEm3rMbEAym9dm/fqkyi9O+rNmNUTSv2HhUqZMn8suZ93MlOlzuWHh0rxDGhBX/GY2IJnMa9PAnbetNHOnK34zG5Cazmtzzz09k/7y5Q2T9KG1Zu504jezAanZvDYSvOUtpcsiYIcdBhlhbbXSzJ1O/GY2IIOe1+aLX2yqIZqtNHOn2/jNbMAGPK9N94T/trfB3XfXJqiMnDF1YkkbPzTvzJ1O/GZWPw3cedufwgdcK1yP14nfzLK3bh2MGFG67Be/gKOPzieeAWqVmTud+M0sW01c5bcqd+6aWTbuvLNn0l+50km/AbjiN7Pac5Xf0Fzxm1ntnHhi+UsgOuk3FFf8ZlYb3RP+e98LN9+cTyzWJyd+MxscN+s0HTf1mNnAvPBCz6T/m9846TcBV/xmVr0Mqvy6XNTFAFf8ZlaN2bN7Jv3Vq2uS9M++fhFLV68j6JryuFnnu290rvjNrDIZtuX3NeWxq/7ac8VvZn078sjMh2i20pTHzcCJ38x6J8ENN3TdP+aYTDpvW2nK42bgph6zFlDzjtE6D9FspSmPm4ErfrMmV9OO0Wee6Zn0f//7zIdoDvqiLlYVV/xmTa5mHaM5n4jVKlMeNwNX/GZNbtAdo9df3zPpv/iiT8RqYa74zZrc2FEdLC2T5CvqGPV0C23JFb9Zkztj6kQ6hg0pWdZvx+jBB3sWzTbmxG/W5KrqGI1IEv7tt3ctO+UUJ/w246YesxZQUceom3Us5YrfrNUtX94z6c+b56Tfxlzxm7UyV/lWhit+s1Z05ZU9k/7LLzvpG+CK36z1uMq3fjjxmzWJfufj2XtvuP/+0pWc8K0MN/WYNYE+5+MpDNEsTvrnnuukb71yxW/WBHqbj2favuN7PtkJ3/rhit+sCXSfd2fccyt47ML3lz5p0SInfatIphW/pFHAT4G9gAA+BTwE/BKYADwGfCQins0yDrNmVzwfT4+ED074VpWsK/7vAL+LiD2ANwGLgbOAORGxGzAnvW/WFm5YuJQp0+eyy1k3M2X63IrnzD9j6kROvPfmHkn/xnmPOelb1RQZvWkkbQ3cB7w+inYi6SHg4IjolDQGuC0i+rzMzuTJk2P+/PmZxGlWL4UO2u5XmarogiPdhmiuGzacW+5+xPPXW58kLYiIyd2XZ1nxvx5YCVwuaaGkn0oaCewQEZ0A6e/tM4zBrGH0dcGUXo0ZU3YWzY5X1jnp24BVlPglvUHSFuntgyWdmrbf92UosC/wo4jYB3iRKpp1JJ0kab6k+StXrqx0NbOGVdUFUzZtShL+8uVdyy66yM06VhOVVvzXARsl7QpcCuwCXN3POk8CT0bE3en9a0k+CJ5Km3hIf68ot3JEzIiIyRExefTo0RWGada4erswSo/lEgwpnV+fCPjSlzKKzNpNpYl/U0RsAI4Evh0RXwDG9LVCRCwHnpBUaL8/FHgAuAk4Pl12PHBj1VGbNaF+L5jy0EM9m3UefthVvtVcpcM510v6GEmiPiJdNqyC9T4P/FzS5sD/ASeQfNjMknQi8Djw4epCNmtOhTb5stMueH4dq6NKE/8JwGeAr0XEEkm7AFf1t1JE3Av06FEmqf7N2k6PC6ZccAHse07pkzZuhM18bqVlp6LEHxEPSDoT2Cm9vwSYnmVgZi2ve5U/YQIsWZJLKNZeKh3VcwRwL/C79P6bJd2UYVxmrWvzzctf6NxJ3+qk0u+T5wNvA1bDq004u2QSkVmr2rAhSfjr13ctu+QSt+Vb3VXaxr8hIp5TaZXid6tZpdx5aw2k0or/fknHAEMk7Sbpe8AfM4zLrDU8+GDPpN/Z6aRvuao08X8eeCPwMsmJW88Bp2cUk1lrkGDSpNJlEbDjjvnEY5bqt6lH0hDgpog4DDg3+5DM6qvfSxpW65vf7HmWbWEKBrMG0G/ij4iNktZKek1EPFePoMzqpfuMmYVLGgIDS/7dk/tRR8F11w02TLOaqrRz9yVgkaRbSSZbAyAiTs0kKrM66WvGzKoS/7hxsGxZ6TK341uDqjTx35z+mLWUqmbMLOeVV2CLLUqX/frX8P4yV8kyaxCVnrk7M51vZ/d00UMRsb6vdcyaQfElDbsv75eHaFqTqvTM3YOBh4EfAD8E/irpoOzCMquPfmfMLOeuu3om/VWrnPStaVTa1PNN4F0R8RCApN2Ba4C3ZBWYWT30OWNmOa7yrQVUmviHFZI+QET8VVIl0zKbNbweM2aW85nPwI9/XLrMCd+aVKWJf76kS4Gfpfc/DizIJiSzBtO9yj/8cJg9O59YzGqg0sT/WeBzwKmAgD+QtPWbtS4361iLqnTKhqHAdyLiqIg4EvguMKSfdcya05o1PZP+jTc66VvLqLTinwMcBqxJ73cAs4G3ZxGUWW5c5VsbqLTiHx4RhaRPentENiGZ5eDWW3sm/WefddK3llRpxf+ipH0j4h4ASZOBCk9tNGtwrvKtzVSa+E8H/lPSMpILsIwFjs4qKLO6OPBAuPPO0mVO+NYG+mzqkfRWSTtGxP8CewC/BDaQXHvXFwi15iWVJv0DD3TSt7bRXxv/j4FX0tsHAOeQTNvwLDAjw7jMsiGVv9D5H/6QTzxmOeivqWdIRDyT3j4amBER1wHXSbo308jMaunpp2G77UqX3XQTHHFEVZup+UVbzHLQb+KXNDQiNgCHAidVsa5ZY6hR523NL9pilpP+mnquAW6XdCPJKJ47ACTtSnLdXbPGdfXVPZP+888PuC2/r4u2mDWTPqv2iPiapDnAGGB2xKv/MZuRXIDdrDFlMERz0BdtMWsQlVxz964yy/6aTThmg7TnnrB4cemyGo3WGdRFW8waSKVn7po1Pqk06U+bVtMhmgO6aItZA3IHrTW/Op15W/VFW8walBO/Na/OThg7tnTZ3Lnw93+f2S4rumiLWYNz4rfm5Pl1zAbMbfzWXH70o55Jf+1aJ32zKrjit+bhKt+sJlzxW+Pbdtvy8+s46ZsNiBO/9euGhUuZMn0uu5x1M1Omz+WGhUvrs+OIJOE/80zXsk99ygnfbJDc1GN9ym1+GjfrmGXGFb/1qe7z0yxZ0jPp33131Uk/t28pZk3AFb/1qa7z03gWTbO6cMVvfeptHpqazk9z4YU9k/4rr3gWTbOMZJ74JQ2RtFDSb9L720i6VdLD6e/XZh2DDVzm89NIcNZZpcsiYNiwAW/Ss2ia9a0eFf9pQPF0iWcBcyJiN2BOet8a1LR9xnHBUXszblQHAsaN6uCCo/YefJNJb5dArEEHbl2+pZg1sUzb+CWNB94HfA3453TxB4GD09szgduAM7OMwwanpvPTbNoEQ0q/QfDFL8LFF9dm+yTfUorb+MGzaJoVy7pz99vAl4GtipbtEBGdABHRKWn7citKOon0Uo877bRTxmFaXXgWTbOGkFnil/R+YEVELJB0cLXrR8QMYAbA5MmTPYC7mT3yCOy2W+myRYtgr70y26Vn0TTrXZYV/xTgA5LeCwwHtpZ0FfCUpDFptT8GWJFhDJY3n4hl1nAy69yNiLMjYnxETAA+CsyNiGOBm4Dj06cdD9yYVQyWo4su6pn0N2500jdrAHmcwDUdmCXpROBx4MM5xGBZ6p7wx4yBZcvyicXMeqhL4o+I20hG7xARTwOH1mO/VmcjRsC6bmPlXeGbNRyfuWuDt2FDUuUXJ/0f/MBJ36xBea4eGxx33po1HVf8NjCLFvVM+n/7m5O+WRNwxW/VG0SVf8PCpT6xyixnrvitcuee2zPpb9pUVdI/+/pFLF29jqBrumTPlW9WX078VhkJvv71rvt77911acQKebpks8bgph7rWw07bz1dslljcMVv5b38cs+kP3PmoDpvPV2yWWNw4reeJBg+vHRZBBx33KA2m/lFXcysIk781uXPf+5Z5Xd21myIZmYXdTGzqriN3xJ1nCvfid4sX674291Xv5rZJRDNrDG54m9n3RP+Jz4BV16ZTyxmVjdO/O1oyy3hxRdLl7nCN2sbbuppJ+vWJVV+cdKfPdtJ36zNuOJvIn3Nc9PvHDgZdd567h2z5uPE3yQK89wUpjwozHNT0Ntj0155Evbfv3Rjq1fDa16TaUxO/maNy4m/SfQ3z025x6btO77nhmrYrNNXTE78Zo3Lib9JVDPPzTlzL+Wk//1V6cIM2vE9945Zc3LnbpPoa56b4sceu/D9pUn/lFMy67z13DtmzcmJv0n0Nc/NGVMn8sNff4PHLnx/yeM33PMkfO97ucRkZo3LTT1NotBm3mMEzaRtoaO0wv7Myd/h3Sd/KPN29l5jcvu+WUNTNMEY7smTJ8f8+fPzDqPxeIimmfVB0oKImNx9uZt6mtHixT2T/ksv1Szp+/KIZq3Nib/ZSLDnnl33jz02SfhbbFGTzfvyiGatz238zeLaa+HDHy5d5iGaZjYArvibgVSa9GfN8hBNMxswJ/5G9ulPl58rv3vlT9I2P2X6XHY562amTJ874DZ5D9E0a31u6mlEa9fCyJGly554AsaXmYKB2s6Z4yGaZq3Pib/GBj0UsqMjGaFTsMceySiePtR6zhxfHtGstTnx19CgKu8HH4RJk0qXrV8PQ/t/idwha2bVcBt/DQ14KKRUmvT/5V+StvwKkj64Q9bMquPEX0NVV95XXVW+8/bf/q2q/bpD1syq4aaeGho7qoOlZZJ8j8o7Ajbr9pk7Zw4ccsiA9usOWTOrhhN/DZ0xdWJJGz+UqbyPOQauuaZ0xRqMyXeHrJlVyom/hvqsvNesga22Kl2hsxN23DGHSM2snTnx11jZyrt7O/5b3wrz5lW9bc+aaWa14MSfpT//Gd70ptJlGzbAkCHln98HX9jczGrFo3qyIpUm/QsuSNryB5D0wbNmmlntZFbxS3odcCWwI7AJmBER35G0DfBLYALwGPCRiHg2qzgGYlBNKnPmwGGHlS6rQeetT9Iys1rJsuLfAHwxIiYB+wOfk7QncBYwJyJ2A+ak9xvGgC9EEpFU+cVJ/847azaLpk/SMrNaySzxR0RnRNyT3n4BWAyMAz4IzEyfNhOYllUMAzGgJpVvfKN0XP6BByYJf8qUmsXlk7TMrFbq0rkraQKwD3A3sENEdELy4SBp+17WOQk4CWCnnXaqR5hAlU0q5WbRfP75nsM2a8AnaZlZrWSe+CVtCVwHnB4Rz6vcBcLLiIgZwAxILraeXYSlKj779j3vgd/9ruv++efDeedlGptP0jKzWsg08UsaRpL0fx4R16eLn5I0Jq32xwArsoyhWv2effvoo7DrrqUrbdrUc6y+mVmDyqyNX0lpfymwOCK+VfTQTcDx6e3jgRuzimEgpu0zjguO2ptxozoQMG5UBxcctXdSaUulSf/mm7s6dc3MmkSWFf8U4BPAIkn3psvOAaYDsySdCDwO9LyOYA0MZkhmjyaV3/4W1O3qVxld89bMLGuZJf6IuBPorRQ+NKv9Qg3Pci03i+Yjj8Ab3lCrUM3M6q4lz9ytyVmuV1xRmvSnTk0+CJz0zazJteRcPYM6y/Xll2G33ZKLmxesWdNz2KaZWZNqyYp/wGe5XnEFDB/elfRvvz2p8p30zayFtGTir/os11WrkpE5J5yQ3P/Qh5IhmgcdlHGkZmb115KJv88hmd2deSaMHt11/9FH4dprPUTTzFpWS7bxQwVnuT74IEya1HW/Dmfempk1gpZN/L2KgHe/G2bP7lr27LMwalRuIZmZ1VNLNvX06r//OxmiWUj611yTfBA46ZtZG2mPiv+ll2DnnWFFOi3QpElw330wbFi+cZmZ5aD1K/4ZM6Cjoyvp/+lP8MADTvpm1rZaO/FffjmcfHJy+5hjkiGa+++fb0xmZjlr7aaePfeEAw5I2vJ33jnvaMzMGkJrJ/799oM//jHvKMzMGkprN/WYmVkPTvxmZm3Gid/MrM048ZuZtRknfjOzNuPEb2bWZpz4zczajBO/mVmbUUTkHUO/JK0E/lbh07cDVmUYzkA5rso1YkzQmHE1YkzQmHE1YkyQbVw7R8To7gubIvFXQ9L8iJicdxzdOa7KNWJM0JhxNWJM0JhxNWJMkE9cbuoxM2szTvxmZm2mFRP/jLwD6IXjqlwjxgSNGVcjxgSNGVcjxgQ5xNVybfxmZta3Vqz4zcysD078ZmZtpmUSv6TLJK2QdH/esRST9DpJv5e0WNJfJJ3WADENlzRP0n1pTP8v75gKJA2RtFDSb/KOpUDSY5IWSbpX0vy84ymQNErStZIeTN9fB+Qcz8T0GBV+npd0ep4xFUj6Qvpev1/SNZKGN0BMp6Xx/KXex6ll2vglHQSsAa6MiL3yjqdA0hhgTETcI2krYAEwLSIeyDEmASMjYo2kYcCdwGkRcVdeMRVI+mdgMrB1RLw/73ggSfzA5IhoqJN/JM0E7oiIn0raHBgREatzDgtIPsCBpcB+EVHpyZdZxTKO5D2+Z0SskzQL+K+IuCLHmPYCfgG8DXgF+B3w2Yh4uB77b5mKPyL+ADyTdxzdRURnRNyT3n4BWAyMyzmmiIg16d1h6U/uFYCk8cD7gJ/mHUujk7Q1cBBwKUBEvNIoST91KPBo3km/yFCgQ9JQYASwLOd4JgF3RcTaiNgA3A4cWa+dt0zibwaSJgD7AHfnHEqhSeVeYAVwa0TkHhPwbeDLwKac4+gugNmSFkg6Ke9gUq8HVgKXp01jP5U0Mu+ginwUuCbvIAAiYilwMfA40Ak8FxGz842K+4GDJG0raQTwXuB19dq5E3+dSNoSuA44PSKezzueiNgYEW8GxgNvS7965kbS+4EVEbEgzzh6MSUi9gXeA3wubVbM21BgX+BHEbEP8CJwVr4hJdJmpw8A/5l3LACSXgt8ENgFGAuMlHRsnjFFxGLgQuBWkmae+4AN9dq/E38dpO3o1wE/j4jr846nWNo8cBvw7nwjYQrwgbQ9/RfAIZKuyjekREQsS3+vAH5F0i6btyeBJ4u+qV1L8kHQCN4D3BMRT+UdSOowYElErIyI9cD1wNtzjomIuDQi9o2Ig0iaqevSvg9O/JlLO1IvBRZHxLfyjgdA0mhJo9LbHST/GA/mGVNEnB0R4yNiAkkzwdyIyLUqA5A0Mu2UJ21KeRfJ1/RcRcRy4AlJE9NFhwK5DRjo5mM0SDNP6nFgf0kj0v/HQ0n62nIlafv0907AUdTxmA2t146yJuka4GBgO0lPAudFxKX5RgUklewngEVpmzrAORHxX/mFxBhgZjryYjNgVkQ0zPDJBrMD8KskXzAUuDoifpdvSK/6PPDztGnl/4ATco6HtL36cODkvGMpiIi7JV0L3EPSnLKQxpi+4TpJ2wLrgc9FxLP12nHLDOc0M7PKuKnHzKzNOPGbmbUZJ34zszbjxG9m1mac+M3M2owTv1lK0ppu9z8p6ft5xWOWFSd+s4yl50uYNQwnfrMKSNpZ0hxJf05/75Quv0LSPxQ9b036++D0OgxXk5y8N1LSzek1EO6XdHROf4pZ65y5a1YDHUVnVwNsA9yU3v4+ybUeZkr6FPBdYFo/23sbsFdELJH0IWBZRLwPQNJrahq5WRVc8Zt1WRcRby78AP9a9NgBwNXp7Z8B76hge/MiYkl6exFwmKQLJR0YEc/VLGqzKjnxmw1MYa6TDaT/R+kEYJsXPefFV58c8VfgLSQfABdIKv5QMasrJ36zyvyRZNZQgI+TXMoP4DGShA7JnO/Dyq0saSywNiKuIrkoSKNMoWxtyG38ZpU5FbhM0hkkV74qzIT5E+BGSfOAORRV+d3sDVwkaRPJbIyfzThes155dk4zszbjph4zszbjxG9m1mac+M3M2owTv5lZm3HiNzNrM078ZmZtxonfzKzN/H/f7ATnM9jL+QAAAABJRU5ErkJggg==\n",
      "text/plain": [
       "<Figure size 432x288 with 1 Axes>"
      ]
     },
     "metadata": {
      "needs_background": "light"
     },
     "output_type": "display_data"
    }
   ],
   "source": [
    "## Visualizing the model\n",
    "regline = lin_reg.predict(x)\n",
    "plt.scatter(x,y)\n",
    "plt.plot(x,regline,color='r')\n",
    "plt.xlabel('Hours')\n",
    "plt.ylabel('Scores')\n",
    "plt.title('Percentage of scores based on no. of study hours')\n",
    "plt.show()\n"
   ]
  },
  {
   "cell_type": "markdown",
   "metadata": {},
   "source": [
    "Predictions"
   ]
  },
  {
   "cell_type": "code",
   "execution_count": 19,
   "metadata": {},
   "outputs": [],
   "source": [
    "## we have trained our model. Now will predict the values\n",
    "y_pred=lin_reg.predict(x_test)"
   ]
  },
  {
   "cell_type": "code",
   "execution_count": 20,
   "metadata": {},
   "outputs": [
    {
     "data": {
      "text/html": [
       "<div>\n",
       "<style scoped>\n",
       "    .dataframe tbody tr th:only-of-type {\n",
       "        vertical-align: middle;\n",
       "    }\n",
       "\n",
       "    .dataframe tbody tr th {\n",
       "        vertical-align: top;\n",
       "    }\n",
       "\n",
       "    .dataframe thead th {\n",
       "        text-align: right;\n",
       "    }\n",
       "</style>\n",
       "<table border=\"1\" class=\"dataframe\">\n",
       "  <thead>\n",
       "    <tr style=\"text-align: right;\">\n",
       "      <th></th>\n",
       "      <th>Actual</th>\n",
       "      <th>Predicted</th>\n",
       "    </tr>\n",
       "  </thead>\n",
       "  <tbody>\n",
       "    <tr>\n",
       "      <th>0</th>\n",
       "      <td>20</td>\n",
       "      <td>16.884145</td>\n",
       "    </tr>\n",
       "    <tr>\n",
       "      <th>1</th>\n",
       "      <td>27</td>\n",
       "      <td>33.732261</td>\n",
       "    </tr>\n",
       "    <tr>\n",
       "      <th>2</th>\n",
       "      <td>69</td>\n",
       "      <td>75.357018</td>\n",
       "    </tr>\n",
       "    <tr>\n",
       "      <th>3</th>\n",
       "      <td>30</td>\n",
       "      <td>26.794801</td>\n",
       "    </tr>\n",
       "    <tr>\n",
       "      <th>4</th>\n",
       "      <td>62</td>\n",
       "      <td>60.491033</td>\n",
       "    </tr>\n",
       "  </tbody>\n",
       "</table>\n",
       "</div>"
      ],
      "text/plain": [
       "   Actual  Predicted\n",
       "0      20  16.884145\n",
       "1      27  33.732261\n",
       "2      69  75.357018\n",
       "3      30  26.794801\n",
       "4      62  60.491033"
      ]
     },
     "execution_count": 20,
     "metadata": {},
     "output_type": "execute_result"
    }
   ],
   "source": [
    "# comparing actual vs predicted\n",
    "df = pd.DataFrame({'Actual': y_test, 'Predicted': y_pred})\n",
    "df"
   ]
  },
  {
   "cell_type": "code",
   "execution_count": 21,
   "metadata": {},
   "outputs": [
    {
     "name": "stdout",
     "output_type": "stream",
     "text": [
      "No of Hours = 9.25\n",
      "Predicted Score = 93.69173248737539\n"
     ]
    }
   ],
   "source": [
    "## now will predict the score of a student who studies for 9.25 hrs/day\n",
    "hours = 9.25\n",
    "own_pred = lin_reg.predict([[hours]])\n",
    "print(\"No of Hours = {}\".format(hours))\n",
    "print(\"Predicted Score = {}\".format(own_pred[0]))"
   ]
  },
  {
   "cell_type": "markdown",
   "metadata": {},
   "source": [
    "Evaluating the model"
   ]
  },
  {
   "cell_type": "code",
   "execution_count": 22,
   "metadata": {},
   "outputs": [],
   "source": [
    "from sklearn.metrics import mean_squared_error, mean_absolute_error, r2_score"
   ]
  },
  {
   "cell_type": "code",
   "execution_count": 23,
   "metadata": {},
   "outputs": [
    {
     "name": "stdout",
     "output_type": "stream",
     "text": [
      "Mean Squared Error:  21.598769307217456\n",
      "Mean Absolute Error:  4.183859899002982\n",
      "r2_score:  0.9454906892105354\n"
     ]
    }
   ],
   "source": [
    "print('Mean Squared Error: ',mean_squared_error(y_test,y_pred))\n",
    "print('Mean Absolute Error: ',mean_absolute_error(y_test,y_pred))\n",
    "print('r2_score: ',r2_score(y_test,y_pred))"
   ]
  }
 ],
 "metadata": {
  "kernelspec": {
   "display_name": "Python 3",
   "language": "python",
   "name": "python3"
  },
  "language_info": {
   "codemirror_mode": {
    "name": "ipython",
    "version": 3
   },
   "file_extension": ".py",
   "mimetype": "text/x-python",
   "name": "python",
   "nbconvert_exporter": "python",
   "pygments_lexer": "ipython3",
   "version": "3.8.5"
  }
 },
 "nbformat": 4,
 "nbformat_minor": 4
}
